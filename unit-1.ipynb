{
  "cells": [
    {
      "cell_type": "code",
      "execution_count": null,
      "metadata": {
        "colab": {
          "base_uri": "https://localhost:8080/"
        },
        "id": "JlXxYO-vuQp1",
        "outputId": "a57dbc2c-7d87-4663-8212-83971c7901c4"
      },
      "outputs": [
        {
          "name": "stdout",
          "output_type": "stream",
          "text": [
            "Colab only includes TensorFlow 2.x; %tensorflow_version has no effect.\n"
          ]
        }
      ],
      "source": [
        "%tensorflow_version 2.x\n"
      ]
    },
    {
      "cell_type": "code",
      "execution_count": null,
      "metadata": {
        "id": "Z-uavUCNuWu1"
      },
      "outputs": [],
      "source": [
        "import matplotlib.pyplot as plt\n",
        "import numpy as np\n",
        "import pandas as pd\n",
        "import tensorflow as tf\n",
        "from keras.models import Model\n",
        "from tensorflow.keras import datasets, layers, models"
      ]
    },
    {
      "cell_type": "code",
      "execution_count": null,
      "metadata": {
        "id": "aFfRWq7iuaCu"
      },
      "outputs": [],
      "source": [
        "\n",
        "TF_MODEL=\"cifar10\"\n",
        "TFL_MODEL_FILE=\"cifar10.tflite\""
      ]
    },
    {
      "cell_type": "code",
      "execution_count": null,
      "metadata": {
        "colab": {
          "base_uri": "https://localhost:8080/"
        },
        "id": "kgpwmI7dud82",
        "outputId": "a40d44e4-fed0-4ae7-9fb0-4c6c10a266cf"
      },
      "outputs": [
        {
          "name": "stdout",
          "output_type": "stream",
          "text": [
            "Downloading data from https://www.cs.toronto.edu/~kriz/cifar-10-python.tar.gz\n",
            "170498071/170498071 [==============================] - 3s 0us/step\n"
          ]
        }
      ],
      "source": [
        "(train_imgs, train_lbls), (test_imgs, test_lbls) = datasets.cifar10.load_data()\n"
      ]
    },
    {
      "cell_type": "code",
      "execution_count": null,
      "metadata": {
        "id": "ogm1gTsTufua"
      },
      "outputs": [],
      "source": [
        "train_imgs = train_imgs / 255.0\n",
        "test_imgs = test_imgs / 255.0"
      ]
    },
    {
      "cell_type": "code",
      "execution_count": null,
      "metadata": {
        "id": "jCwxVx4yuk98"
      },
      "outputs": [],
      "source": [
        "# Built and train the model\n",
        "def separable_conv(input, ch, idx):\n",
        "    x = layers.DepthwiseConv2D((3,3), padding=\"same\", name='dwc0_dwsc'+str(idx))(input)\n",
        "    x = layers.BatchNormalization( name='bn0_dwsc'+str(idx))(x)\n",
        "    x = layers.Activation(\"relu\", name='act0_dwsc'+str(idx))(x)\n",
        "    x = layers.Conv2D(ch, (1,1), padding=\"same\", name='conv0_dwsc'+str(idx))(x)\n",
        "    x = layers.BatchNormalization(name='bn1_dwsc'+str(idx))(x)\n",
        "    return layers.Activation(\"relu\", name='act1_dwsc'+str(idx))(x)"
      ]
    },
    {
      "cell_type": "code",
      "execution_count": null,
      "metadata": {
        "id": "vX1In3XdunIM"
      },
      "outputs": [],
      "source": [
        "input = layers.Input((32,32,3))\n",
        "x = layers.Conv2D(16, (3, 3), padding='same', name='conv1')(input)\n",
        "x = layers.BatchNormalization(name='bn1')(x)\n",
        "x = layers.Activation(\"relu\", name='act1')(x)\n",
        "x = separable_conv(x, 24, 2)\n",
        "x = layers.MaxPooling2D((2, 2), name='pool1')(x)\n",
        "x = separable_conv(x, 48, 3)\n",
        "x = layers.MaxPooling2D((2, 2), name='pool2')(x)\n",
        "x = separable_conv(x, 96, 4)\n",
        "x = separable_conv(x, 192, 5)\n",
        "x = layers.MaxPooling2D((2, 2), name='pool3')(x)"
      ]
    },
    {
      "cell_type": "code",
      "execution_count": null,
      "metadata": {
        "id": "NFBf05Q2urUD"
      },
      "outputs": [],
      "source": [
        "\n",
        "x = layers.Flatten()(x)\n",
        "x = layers.Dropout(0.2)(x)\n",
        "x = layers.Dense(10)(x)"
      ]
    },
    {
      "cell_type": "code",
      "execution_count": null,
      "metadata": {
        "colab": {
          "base_uri": "https://localhost:8080/"
        },
        "id": "OpBUUq6BuvMr",
        "outputId": "c404f569-166c-4c8d-da8b-92997e4464e1"
      },
      "outputs": [
        {
          "name": "stdout",
          "output_type": "stream",
          "text": [
            "Model: \"model\"\n",
            "_________________________________________________________________\n",
            " Layer (type)                Output Shape              Param #   \n",
            "=================================================================\n",
            " input_1 (InputLayer)        [(None, 32, 32, 3)]       0         \n",
            "                                                                 \n",
            " conv1 (Conv2D)              (None, 32, 32, 16)        448       \n",
            "                                                                 \n",
            " bn1 (BatchNormalization)    (None, 32, 32, 16)        64        \n",
            "                                                                 \n",
            " act1 (Activation)           (None, 32, 32, 16)        0         \n",
            "                                                                 \n",
            " dwc0_dwsc2 (DepthwiseConv2  (None, 32, 32, 16)        160       \n",
            " D)                                                              \n",
            "                                                                 \n",
            " bn0_dwsc2 (BatchNormalizat  (None, 32, 32, 16)        64        \n",
            " ion)                                                            \n",
            "                                                                 \n",
            " act0_dwsc2 (Activation)     (None, 32, 32, 16)        0         \n",
            "                                                                 \n",
            " conv0_dwsc2 (Conv2D)        (None, 32, 32, 24)        408       \n",
            "                                                                 \n",
            " bn1_dwsc2 (BatchNormalizat  (None, 32, 32, 24)        96        \n",
            " ion)                                                            \n",
            "                                                                 \n",
            " act1_dwsc2 (Activation)     (None, 32, 32, 24)        0         \n",
            "                                                                 \n",
            " pool1 (MaxPooling2D)        (None, 16, 16, 24)        0         \n",
            "                                                                 \n",
            " dwc0_dwsc3 (DepthwiseConv2  (None, 16, 16, 24)        240       \n",
            " D)                                                              \n",
            "                                                                 \n",
            " bn0_dwsc3 (BatchNormalizat  (None, 16, 16, 24)        96        \n",
            " ion)                                                            \n",
            "                                                                 \n",
            " act0_dwsc3 (Activation)     (None, 16, 16, 24)        0         \n",
            "                                                                 \n",
            " conv0_dwsc3 (Conv2D)        (None, 16, 16, 48)        1200      \n",
            "                                                                 \n",
            " bn1_dwsc3 (BatchNormalizat  (None, 16, 16, 48)        192       \n",
            " ion)                                                            \n",
            "                                                                 \n",
            " act1_dwsc3 (Activation)     (None, 16, 16, 48)        0         \n",
            "                                                                 \n",
            " pool2 (MaxPooling2D)        (None, 8, 8, 48)          0         \n",
            "                                                                 \n",
            " dwc0_dwsc4 (DepthwiseConv2  (None, 8, 8, 48)          480       \n",
            " D)                                                              \n",
            "                                                                 \n",
            " bn0_dwsc4 (BatchNormalizat  (None, 8, 8, 48)          192       \n",
            " ion)                                                            \n",
            "                                                                 \n",
            " act0_dwsc4 (Activation)     (None, 8, 8, 48)          0         \n",
            "                                                                 \n",
            " conv0_dwsc4 (Conv2D)        (None, 8, 8, 96)          4704      \n",
            "                                                                 \n",
            " bn1_dwsc4 (BatchNormalizat  (None, 8, 8, 96)          384       \n",
            " ion)                                                            \n",
            "                                                                 \n",
            " act1_dwsc4 (Activation)     (None, 8, 8, 96)          0         \n",
            "                                                                 \n",
            " dwc0_dwsc5 (DepthwiseConv2  (None, 8, 8, 96)          960       \n",
            " D)                                                              \n",
            "                                                                 \n",
            " bn0_dwsc5 (BatchNormalizat  (None, 8, 8, 96)          384       \n",
            " ion)                                                            \n",
            "                                                                 \n",
            " act0_dwsc5 (Activation)     (None, 8, 8, 96)          0         \n",
            "                                                                 \n",
            " conv0_dwsc5 (Conv2D)        (None, 8, 8, 192)         18624     \n",
            "                                                                 \n",
            " bn1_dwsc5 (BatchNormalizat  (None, 8, 8, 192)         768       \n",
            " ion)                                                            \n",
            "                                                                 \n",
            " act1_dwsc5 (Activation)     (None, 8, 8, 192)         0         \n",
            "                                                                 \n",
            " pool3 (MaxPooling2D)        (None, 4, 4, 192)         0         \n",
            "                                                                 \n",
            " flatten (Flatten)           (None, 3072)              0         \n",
            "                                                                 \n",
            " dropout (Dropout)           (None, 3072)              0         \n",
            "                                                                 \n",
            " dense (Dense)               (None, 10)                30730     \n",
            "                                                                 \n",
            "=================================================================\n",
            "Total params: 60194 (235.13 KB)\n",
            "Trainable params: 59074 (230.76 KB)\n",
            "Non-trainable params: 1120 (4.38 KB)\n",
            "_________________________________________________________________\n"
          ]
        }
      ],
      "source": [
        "\n",
        "model = Model(input, x)\n",
        "model.summary()"
      ]
    },
    {
      "cell_type": "code",
      "execution_count": null,
      "metadata": {
        "colab": {
          "base_uri": "https://localhost:8080/",
          "height": 619
        },
        "id": "49dcG7CWuy9u",
        "outputId": "0dfdbed2-1f9e-440d-f2ab-ea66601e8933"
      },
      "outputs": [
        {
          "data": {
            "image/png": "[encoded data removed]",
            "text/plain": [
              "<Figure size 640x480 with 1 Axes>"
            ]
          },
          "metadata": {},
          "output_type": "display_data"
        }
      ],
      "source": [
        "fig = plt.figure(dpi=100)\n",
        "\n",
        "ax = fig.add_axes([0,0,1,1])\n",
        "\n",
        "l_idx   = []\n",
        "l_sizes = []\n",
        "\n",
        "for layer in model.layers[1:]:\n",
        "  shape = layer.output_shape\n",
        "  shape = np.delete(shape, 0)\n",
        "  size  = np.prod(shape)\n",
        "  l_idx   = np.append(l_idx, layer.name)\n",
        "  l_sizes = np.append(l_sizes, size)\n",
        "\n",
        "ax.bar(l_idx, l_sizes)\n",
        "plt.xticks(rotation='vertical')\n",
        "plt.show()"
      ]
    },
    {
      "cell_type": "code",
      "execution_count": null,
      "metadata": {
        "colab": {
          "background_save": true,
          "base_uri": "https://localhost:8080/"
        },
        "id": "ea8fKuHfu6Cd",
        "outputId": "345a5492-4ae9-4335-9595-a05bf8b63c51"
      },
      "outputs": [
        {
          "name": "stdout",
          "output_type": "stream",
          "text": [
            "Epoch 1/10\n",
            "1563/1563 [==============================] - 159s 99ms/step - loss: 1.6060 - accuracy: 0.4590 - val_loss: 1.2376 - val_accuracy: 0.5607\n",
            "Epoch 2/10\n",
            "1563/1563 [==============================] - 172s 110ms/step - loss: 1.1134 - accuracy: 0.6079 - val_loss: 1.0811 - val_accuracy: 0.6167\n",
            "Epoch 3/10\n",
            "1563/1563 [==============================] - 156s 100ms/step - loss: 0.9449 - accuracy: 0.6675 - val_loss: 1.0579 - val_accuracy: 0.6244\n",
            "Epoch 4/10\n",
            "1563/1563 [==============================] - 155s 99ms/step - loss: 0.8375 - accuracy: 0.7056 - val_loss: 0.8811 - val_accuracy: 0.6964\n",
            "Epoch 5/10\n",
            "1563/1563 [==============================] - 157s 101ms/step - loss: 0.7581 - accuracy: 0.7348 - val_loss: 0.8262 - val_accuracy: 0.7143\n",
            "Epoch 6/10\n",
            "1563/1563 [==============================] - 158s 101ms/step - loss: 0.6985 - accuracy: 0.7552 - val_loss: 0.8827 - val_accuracy: 0.6998\n",
            "Epoch 7/10\n",
            "1563/1563 [==============================] - 151s 96ms/step - loss: 0.6570 - accuracy: 0.7694 - val_loss: 1.0207 - val_accuracy: 0.6473\n",
            "Epoch 8/10\n",
            "1563/1563 [==============================] - 156s 100ms/step - loss: 0.6122 - accuracy: 0.7847 - val_loss: 0.7903 - val_accuracy: 0.7326\n",
            "Epoch 9/10\n",
            "1563/1563 [==============================] - 157s 101ms/step - loss: 0.5758 - accuracy: 0.7984 - val_loss: 0.9112 - val_accuracy: 0.7054\n",
            "Epoch 10/10\n",
            "1563/1563 [==============================] - 155s 99ms/step - loss: 0.5476 - accuracy: 0.8103 - val_loss: 0.7908 - val_accuracy: 0.7365\n"
          ]
        }
      ],
      "source": [
        "model.compile(optimizer='adam',\n",
        "              loss=tf.keras.losses.SparseCategoricalCrossentropy(from_logits=True),\n",
        "              metrics=['accuracy'])\n",
        "\n",
        "history = model.fit(train_imgs, train_lbls, epochs=10,\n",
        "                    validation_data=(test_imgs, test_lbls))"
      ]
    },
    {
      "cell_type": "code",
      "execution_count": null,
      "metadata": {
        "colab": {
          "background_save": true
        },
        "id": "L-Wp28IEvMX7"
      },
      "outputs": [],
      "source": [
        "TF_MODEL = \"desktop\"\n",
        "model.save(TF_MODEL)\n"
      ]
    },
    {
      "cell_type": "code",
      "execution_count": null,
      "metadata": {
        "colab": {
          "background_save": true
        },
        "id": "5VccAEb1vA9n"
      },
      "outputs": [],
      "source": [
        "model.save(TF_MODEL)"
      ]
    },
    {
      "cell_type": "code",
      "execution_count": null,
      "metadata": {
        "colab": {
          "background_save": true
        },
        "id": "PKxVRbDgvIfe"
      },
      "outputs": [],
      "source": [
        "cifar_ds = tf.data.Dataset.from_tensor_slices(train_imgs).batch(1)\n",
        "def representative_data_gen():\n",
        "  for i_value in cifar_ds.take(100):\n",
        "    i_value_f32 = tf.dtypes.cast(i_value, tf.float32)\n",
        "    yield [i_value_f32]"
      ]
    },
    {
      "cell_type": "code",
      "execution_count": null,
      "metadata": {
        "colab": {
          "background_save": true
        },
        "id": "IAseJXDevQBe"
      },
      "outputs": [],
      "source": [
        "tfl_conv = tf.lite.TFLiteConverter.from_saved_model(TF_MODEL)\n",
        "tfl_conv.representative_dataset = tf.lite.RepresentativeDataset(representative_data_gen)\n",
        "tfl_conv.optimizations = [tf.lite.Optimize.DEFAULT]\n",
        "tfl_conv.target_spec.supported_ops = [tf.lite.OpsSet.TFLITE_BUILTINS_INT8]\n",
        "tfl_conv.inference_input_type = tf.int8\n",
        "tfl_conv.inference_output_type = tf.int8"
      ]
    },
    {
      "cell_type": "code",
      "execution_count": null,
      "metadata": {
        "colab": {
          "background_save": true
        },
        "id": "xRqTHIlIvR-u",
        "outputId": "689ab584-cd6c-4df5-b72a-df55bcd46caf"
      },
      "outputs": [
        {
          "data": {
            "text/plain": [
              "82152"
            ]
          },
          "execution_count": 16,
          "metadata": {},
          "output_type": "execute_result"
        }
      ],
      "source": [
        "#the size (in bytes) of the generated TensorFlow Lite model with no quantization\n",
        "tfl_model = tfl_conv.convert()\n",
        "open(TFL_MODEL_FILE, \"wb\").write(tfl_model)"
      ]
    },
    {
      "cell_type": "code",
      "execution_count": null,
      "metadata": {
        "colab": {
          "background_save": true
        },
        "id": "X1DtAaPcvXG7",
        "outputId": "6b5a7020-021d-47dc-f4ee-c5fbfad87924"
      },
      "outputs": [
        {
          "name": "stdout",
          "output_type": "stream",
          "text": [
            "82152\n"
          ]
        }
      ],
      "source": [
        "print(len(tfl_model))"
      ]
    },
    {
      "cell_type": "code",
      "execution_count": null,
      "metadata": {
        "id": "Ul8NJUZGvcko"
      },
      "outputs": [],
      "source": [
        "tfl_inter = tf.lite.Interpreter(model_content=tfl_model)\n",
        "\n",
        "# Allocate the tensors\n",
        "tfl_inter.allocate_tensors()\n",
        "\n",
        "# Get input/output layer information\n",
        "i_details = tfl_inter.get_input_details()[0]\n",
        "o_details = tfl_inter.get_output_details()[0]\n",
        "\n",
        "i_quant = i_details[\"quantization_parameters\"]\n",
        "o_quant = o_details[\"quantization_parameters\"]\n",
        "i_scale      = i_quant['scales'][0]\n",
        "i_zero_point = i_quant['zero_points'][0]\n",
        "o_scale      = o_quant['scales'][0]\n",
        "o_zero_point = o_quant['zero_points'][0]\n",
        "\n",
        "def classify(i_data, o_value):\n",
        "  input_data = i_value.reshape((1, 32, 32, 3))\n",
        "  i_value_f32 = tf.dtypes.cast(input_data, tf.float32)\n",
        "\n",
        "  # Quantize (float -> 8-bit) the input (check if input layer is 8-bit, first)\n",
        "  i_value_f32 = i_value_f32 / i_scale + i_zero_point\n",
        "  i_value_s8 = tf.cast(i_value_f32, dtype=tf.int8)\n",
        "\n",
        "  tfl_inter.set_tensor(i_details[\"index\"], i_value_s8)\n",
        "  tfl_inter.invoke()\n",
        "  o_pred = tfl_inter.get_tensor(o_details[\"index\"])[0]\n",
        "\n",
        "  return (o_pred - o_zero_point) * o_scale\n",
        "\n",
        "num_correct_samples = 0\n",
        "num_total_samples   = len(list(test_imgs))\n",
        "\n",
        "for i_value, o_value in zip(test_imgs, test_lbls):\n",
        "  o_pred_f32 = classify(i_value, o_value)\n",
        "  if np.argmax(o_pred_f32) == o_value:\n",
        "      num_correct_samples += 1"
      ]
    },
    {
      "cell_type": "code",
      "execution_count": null,
      "metadata": {
        "colab": {
          "background_save": true
        },
        "id": "f7Mo9GkKvsxx",
        "outputId": "05f9f249-8ac2-4beb-c70a-ec566c90c1c0"
      },
      "outputs": [
        {
          "name": "stdout",
          "output_type": "stream",
          "text": [
            "Accuracy: 0.728\n"
          ]
        }
      ],
      "source": [
        "\n",
        "\n",
        "print(\"Accuracy:\", num_correct_samples/num_total_samples)"
      ]
    },
    {
      "cell_type": "code",
      "execution_count": null,
      "metadata": {
        "colab": {
          "background_save": true
        },
        "id": "8WHP7br5vxTP",
        "outputId": "7dd953b3-1cab-4f4f-fc77-d73748aaf21e"
      },
      "outputs": [
        {
          "name": "stdout",
          "output_type": "stream",
          "text": [
            "Get:1 https://cloud.r-project.org/bin/linux/ubuntu jammy-cran40/ InRelease [3,626 B]\n",
            "Hit:2 https://developer.download.nvidia.com/compute/cuda/repos/ubuntu2204/x86_64  InRelease\n",
            "Get:3 http://security.ubuntu.com/ubuntu jammy-security InRelease [110 kB]\n",
            "Hit:4 http://archive.ubuntu.com/ubuntu jammy InRelease\n",
            "Get:5 http://archive.ubuntu.com/ubuntu jammy-updates InRelease [119 kB]\n",
            "Get:6 http://archive.ubuntu.com/ubuntu jammy-backports InRelease [109 kB]\n",
            "Hit:7 https://ppa.launchpadcontent.net/c2d4u.team/c2d4u4.0+/ubuntu jammy InRelease\n",
            "Get:8 http://security.ubuntu.com/ubuntu jammy-security/universe amd64 Packages [1,065 kB]\n",
            "Hit:9 https://ppa.launchpadcontent.net/deadsnakes/ppa/ubuntu jammy InRelease\n",
            "Get:10 http://archive.ubuntu.com/ubuntu jammy-updates/main amd64 Packages [1,735 kB]\n",
            "Hit:11 https://ppa.launchpadcontent.net/graphics-drivers/ppa/ubuntu jammy InRelease\n",
            "Get:12 http://security.ubuntu.com/ubuntu jammy-security/main amd64 Packages [1,455 kB]\n",
            "Hit:13 https://ppa.launchpadcontent.net/ubuntugis/ppa/ubuntu jammy InRelease\n",
            "Get:14 http://security.ubuntu.com/ubuntu jammy-security/restricted amd64 Packages [1,784 kB]\n",
            "Get:15 http://archive.ubuntu.com/ubuntu jammy-updates/universe amd64 Packages [1,339 kB]\n",
            "Get:16 http://archive.ubuntu.com/ubuntu jammy-updates/restricted amd64 Packages [1,822 kB]\n",
            "Fetched 9,541 kB in 2s (5,248 kB/s)\n",
            "Reading package lists... Done\n"
          ]
        }
      ],
      "source": [
        "!apt-get update && apt-get -qq install xxd\n",
        "!xxd -i cifar10.tflite > model.h"
      ]
    },
    {
      "cell_type": "code",
      "execution_count": null,
      "metadata": {
        "id": "qrdSeQr_v2zN"
      },
      "outputs": [],
      "source": [
        "\n",
        "def array_to_str(data):\n",
        "    NUM_COLS = 12\n",
        "    val_string = ''\n",
        "    for i, val in enumerate(data):\n",
        "        val_string += str(val)\n",
        "\n",
        "        if (i + 1) < len(data):\n",
        "            val_string += ','\n",
        "        if (i + 1) % NUM_COLS == 0:\n",
        "            val_string += '\\n'\n",
        "    return val_string"
      ]
    },
    {
      "cell_type": "code",
      "execution_count": null,
      "metadata": {
        "colab": {
          "background_save": true
        },
        "id": "mT01v_jsv6ST"
      },
      "outputs": [],
      "source": [
        "\n",
        "def gen_h_file(size, data, ilabel):\n",
        "  str_out = f'int8_t g_test[] = '\n",
        "  str_out += \"\\n{\\n\"\n",
        "  str_out += f'{data}'\n",
        "  str_out += '};\\n'\n",
        "  str_out += f\"const int g_test_len = {size};\\n\"\n",
        "  str_out += f\"const int g_test_ilabel = {ilabel};\\n\"\n",
        "  return str_out"
      ]
    },
    {
      "cell_type": "code",
      "execution_count": null,
      "metadata": {
        "colab": {
          "background_save": true
        },
        "id": "bX8sLTHWv-GO"
      },
      "outputs": [],
      "source": [
        "\n",
        "imgs = list(zip(test_imgs, test_lbls))\n",
        "cols = ['Image', 'Label']\n",
        "df = pd.DataFrame(imgs, columns = cols)\n"
      ]
    },
    {
      "cell_type": "code",
      "execution_count": null,
      "metadata": {
        "colab": {
          "background_save": true
        },
        "id": "p2ddfIonwG_x"
      },
      "outputs": [],
      "source": [
        "\n",
        "cond = df['Label'] == 8\n",
        "ship_samples = df[cond]"
      ]
    },
    {
      "cell_type": "code",
      "execution_count": null,
      "metadata": {
        "colab": {
          "background_save": true
        },
        "id": "Owi_nbwfwKqF"
      },
      "outputs": [],
      "source": [
        "\n",
        "c_code = \"\"\n",
        "\n",
        "for index, row in ship_samples.iterrows():\n",
        "  i_value = np.asarray(row['Image'].tolist())\n",
        "  o_value = np.asarray(row['Label'].tolist())\n",
        "  o_pred_f32 = classify(i_value, o_value)\n",
        "  if np.argmax(o_pred_f32) == o_value:\n",
        "    i_value_f32 = i_value / i_scale + i_zero_point\n",
        "    i_value_s8  = i_value_f32.astype(dtype=np.uint8)\n",
        "    i_value_s8  = i_value_s8.ravel()\n",
        "\n",
        "    # Generate a string from NumPy array\n",
        "    val_string = array_to_str(i_value_s8)\n",
        "\n",
        "    c_code = gen_h_file(i_value_s8.size, val_string, \"8\")\n",
        "    break"
      ]
    },
    {
      "cell_type": "code",
      "execution_count": null,
      "metadata": {
        "id": "XUxl5y0KwSCS"
      },
      "outputs": [],
      "source": [
        "with open(\"input.h\", 'w') as file:\n",
        "  file.write(c_code)"
      ]
    },
    {
      "cell_type": "code",
      "execution_count": null,
      "metadata": {
        "id": "7ej8Ts-XadAU"
      },
      "outputs": [],
      "source": [
        "test_image = np.expand_dims(test_imgs[0], axis=0).astype(np.float32)\n",
        "\n",
        "plt.figure(figsize=(3,3))\n",
        "plt.imshow(test_imgs[0])"
      ]
    },
    {
      "cell_type": "code",
      "execution_count": null,
      "metadata": {
        "id": "haZlYCgWf-mW"
      },
      "outputs": [],
      "source": [
        "test_imgs.shape"
      ]
    },
    {
      "cell_type": "code",
      "execution_count": null,
      "metadata": {
        "id": "Tp1YzLv6iBlh"
      },
      "outputs": [],
      "source": [
        "class_names = ['airplane', 'automobile', 'bird', 'cat', 'deer', 'dog', 'frog', 'horse', 'ship', 'truck']"
      ]
    },
    {
      "cell_type": "code",
      "execution_count": null,
      "metadata": {
        "id": "m82UnbO1hRa0"
      },
      "outputs": [],
      "source": [
        "interpreter = tf.lite.Interpreter(model_path='cifar10.tflite')"
      ]
    },
    {
      "cell_type": "code",
      "execution_count": null,
      "metadata": {
        "id": "e4X7S57kgCxI"
      },
      "outputs": [],
      "source": [
        "#interpreter.set_tensor(i_details[0]['index'], test_image)\n",
        "#interpreter.invoke()\n",
        "#predictions = interpreter.get_tensor(o_details[0]['index'])\n",
        "tfl_inter.set_tensor(i_details[\"index\"], i_value_s8)\n",
        "tfl_inter.invoke()\n",
        "o_pred = tfl_inter.get_tensor(o_details[\"index\"])[0]\n",
        "\n",
        "\n",
        "\n",
        "prediction_class = np.argmax(o_pred)\n",
        "prediction_class_name = class_names[prediction_class]\n",
        "prediction_class_name"
      ]
    }
  ],
  "metadata": {
    "accelerator": "GPU",
    "colab": {
      "gpuType": "T4",
      "provenance": []
    },
    "kernelspec": {
      "display_name": "Python 3",
      "name": "python3"
    },
    "language_info": {
      "name": "python"
    }
  },
  "nbformat": 4,
  "nbformat_minor": 0
}