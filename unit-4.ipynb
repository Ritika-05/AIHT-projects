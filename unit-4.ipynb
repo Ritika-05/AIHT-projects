{
  "nbformat": 4,
  "nbformat_minor": 0,
  "metadata": {
    "colab": {
      "provenance": []
    },
    "kernelspec": {
      "name": "python3",
      "display_name": "Python 3"
    },
    "language_info": {
      "name": "python"
    }
  },
  "cells": [
    {
      "cell_type": "code",
      "execution_count": null,
      "metadata": {
        "colab": {
          "base_uri": "https://localhost:8080/"
        },
        "id": "cz54wmw4PAhy",
        "outputId": "ba3cf230-e0d7-4823-de11-f27dbee5f979"
      },
      "outputs": [
        {
          "output_type": "stream",
          "name": "stdout",
          "text": [
            "Collecting pyspark\n",
            "  Downloading pyspark-3.5.1.tar.gz (317.0 MB)\n",
            "\u001b[2K     \u001b[90m━━━━━━━━━━━━━━━━━━━━━━━━━━━━━━━━━━━━━━━━\u001b[0m \u001b[32m317.0/317.0 MB\u001b[0m \u001b[31m2.2 MB/s\u001b[0m eta \u001b[36m0:00:00\u001b[0m\n",
            "\u001b[?25h  Preparing metadata (setup.py) ... \u001b[?25l\u001b[?25hdone\n",
            "Requirement already satisfied: py4j==0.10.9.7 in /usr/local/lib/python3.10/dist-packages (from pyspark) (0.10.9.7)\n",
            "Building wheels for collected packages: pyspark\n",
            "  Building wheel for pyspark (setup.py) ... \u001b[?25l\u001b[?25hdone\n",
            "  Created wheel for pyspark: filename=pyspark-3.5.1-py2.py3-none-any.whl size=317488493 sha256=242b8fe90c39f2c98a428626bf86cebdd7f59f14b44db1afe19ac0e54de2fcc5\n",
            "  Stored in directory: /root/.cache/pip/wheels/80/1d/60/2c256ed38dddce2fdd93be545214a63e02fbd8d74fb0b7f3a6\n",
            "Successfully built pyspark\n",
            "Installing collected packages: pyspark\n",
            "Successfully installed pyspark-3.5.1\n"
          ]
        }
      ],
      "source": [
        "pip install pyspark\n"
      ]
    },
    {
      "cell_type": "code",
      "source": [
        "import pyspark\n",
        "from pyspark import SparkContext\n",
        "from pyspark.sql import SQLContext\n",
        "from pyspark.sql.functions import col\n",
        "\n",
        "sc = SparkContext.getOrCreate()\n",
        "sqlCtx = SQLContext(sc)"
      ],
      "metadata": {
        "colab": {
          "base_uri": "https://localhost:8080/"
        },
        "id": "nqItnaE5PCcs",
        "outputId": "7a403819-9d08-4efc-b505-831e1951c85c"
      },
      "execution_count": null,
      "outputs": [
        {
          "output_type": "stream",
          "name": "stderr",
          "text": [
            "/usr/local/lib/python3.10/dist-packages/pyspark/sql/context.py:113: FutureWarning: Deprecated in 3.0.0. Use SparkSession.builder.getOrCreate() instead.\n",
            "  warnings.warn(\n"
          ]
        }
      ]
    },
    {
      "cell_type": "code",
      "source": [
        "import pandas as pd\n",
        "from matplotlib import pyplot as plt\n",
        "import numpy as np\n",
        "from pyspark.sql.functions import col\n",
        "from pyspark.ml.feature import VectorAssembler\n",
        "from pyspark.mllib.linalg import Vectors\n",
        "from pyspark.mllib.regression import LabeledPoint\n",
        "from pyspark.sql.types import DoubleType\n",
        "from pyspark.ml import Pipeline\n",
        "from pyspark.ml.feature import OneHotEncoder"
      ],
      "metadata": {
        "id": "tdfzImhMPJaN"
      },
      "execution_count": null,
      "outputs": []
    },
    {
      "cell_type": "code",
      "source": [
        "flights_df = pd.read_csv(\"flight.csv\")"
      ],
      "metadata": {
        "id": "szlLLyBmPbjN"
      },
      "execution_count": null,
      "outputs": []
    },
    {
      "cell_type": "code",
      "source": [
        "flights_df.isnull().sum()"
      ],
      "metadata": {
        "colab": {
          "base_uri": "https://localhost:8080/"
        },
        "id": "Oh-SVIDFPsuj",
        "outputId": "bbf20bda-2960-4b29-9360-b23e07fa578f"
      },
      "execution_count": null,
      "outputs": [
        {
          "output_type": "execute_result",
          "data": {
            "text/plain": [
              "YEAR                      0\n",
              "MONTH                     0\n",
              "DAY                       0\n",
              "DAY_OF_WEEK               0\n",
              "AIRLINE                   0\n",
              "FLIGHT_NUMBER             0\n",
              "TAIL_NUMBER              13\n",
              "ORIGIN_AIRPORT            0\n",
              "DESTINATION_AIRPORT       0\n",
              "SCHEDULED_DEPARTURE       0\n",
              "DEPARTURE_TIME          388\n",
              "DEPARTURE_DELAY         388\n",
              "TAXI_OUT                389\n",
              "WHEELS_OFF              389\n",
              "SCHEDULED_TIME            0\n",
              "ELAPSED_TIME            407\n",
              "AIR_TIME                407\n",
              "DISTANCE                  0\n",
              "WHEELS_ON               395\n",
              "TAXI_IN                 395\n",
              "SCHEDULED_ARRIVAL         0\n",
              "ARRIVAL_TIME            395\n",
              "ARRIVAL_DELAY           407\n",
              "DIVERTED                  0\n",
              "CANCELLED                 0\n",
              "CANCELLATION_REASON    9607\n",
              "AIR_SYSTEM_DELAY       8272\n",
              "SECURITY_DELAY         8272\n",
              "AIRLINE_DELAY          8272\n",
              "LATE_AIRCRAFT_DELAY    8272\n",
              "WEATHER_DELAY          8272\n",
              "dtype: int64"
            ]
          },
          "metadata": {},
          "execution_count": 6
        }
      ]
    },
    {
      "cell_type": "code",
      "source": [
        "flights_agg = flights_df[['MONTH','DAY','DAY_OF_WEEK','AIRLINE','ORIGIN_AIRPORT',\n",
        "                          'SCHEDULED_DEPARTURE','SCHEDULED_TIME',\n",
        "                          'DISTANCE','SCHEDULED_ARRIVAL','DEPARTURE_DELAY']].copy()\n",
        "flights_agg = flights_agg.dropna(axis=0, how = \"any\")"
      ],
      "metadata": {
        "id": "byNMwh7SPcMU"
      },
      "execution_count": null,
      "outputs": []
    },
    {
      "cell_type": "code",
      "source": [
        "flights_agg.isnull().sum()"
      ],
      "metadata": {
        "colab": {
          "base_uri": "https://localhost:8080/"
        },
        "id": "oU84U6B-P1cs",
        "outputId": "6964b630-94b0-4932-e7b5-1681c225b983"
      },
      "execution_count": null,
      "outputs": [
        {
          "output_type": "execute_result",
          "data": {
            "text/plain": [
              "MONTH                  0\n",
              "DAY                    0\n",
              "DAY_OF_WEEK            0\n",
              "AIRLINE                0\n",
              "ORIGIN_AIRPORT         0\n",
              "SCHEDULED_DEPARTURE    0\n",
              "SCHEDULED_TIME         0\n",
              "DISTANCE               0\n",
              "SCHEDULED_ARRIVAL      0\n",
              "DEPARTURE_DELAY        0\n",
              "dtype: int64"
            ]
          },
          "metadata": {},
          "execution_count": 8
        }
      ]
    },
    {
      "cell_type": "code",
      "source": [
        "flights_agg['DELAY'] = np.where(flights_agg['DEPARTURE_DELAY'] <= 0, 0, 1)"
      ],
      "metadata": {
        "id": "KqqMX0khP8UK"
      },
      "execution_count": null,
      "outputs": []
    },
    {
      "cell_type": "code",
      "source": [
        "no_delay = (flights_agg['DELAY'] == 0).sum()\n",
        "nobs = len(flights_agg['DELAY'])\n",
        "no_delay_perc = float(no_delay)/nobs\n",
        "delay_perc = 1 - no_delay_perc\n",
        "print(no_delay_perc, delay_perc)"
      ],
      "metadata": {
        "colab": {
          "base_uri": "https://localhost:8080/"
        },
        "id": "SdY5mI_CQH3r",
        "outputId": "165123f0-ce1e-47ab-a4c2-20c3a0a96401"
      },
      "execution_count": null,
      "outputs": [
        {
          "output_type": "stream",
          "name": "stdout",
          "text": [
            "0.6097180314223286 0.3902819685776714\n"
          ]
        }
      ]
    },
    {
      "cell_type": "code",
      "source": [
        "delay = nobs - no_delay\n",
        "no_delay_indices = flights_agg[flights_agg.DELAY == 0].index\n",
        "#undersamples no delays to equal same number of delays\n",
        "np.random.seed(5)\n",
        "random_indices = np.random.choice(no_delay_indices, delay, replace=False)\n",
        "no_delay_sample = flights_agg.loc[random_indices]"
      ],
      "metadata": {
        "id": "WsdeRqCTT20g"
      },
      "execution_count": null,
      "outputs": []
    },
    {
      "cell_type": "code",
      "source": [
        "no_delay_sample[:10]"
      ],
      "metadata": {
        "colab": {
          "base_uri": "https://localhost:8080/",
          "height": 383
        },
        "id": "3EQOaFd_T7VL",
        "outputId": "0e26d7b7-12a1-45f0-ab77-6eb3eeb8693d"
      },
      "execution_count": null,
      "outputs": [
        {
          "output_type": "execute_result",
          "data": {
            "text/plain": [
              "      MONTH  DAY  DAY_OF_WEEK AIRLINE ORIGIN_AIRPORT  SCHEDULED_DEPARTURE  \\\n",
              "1781      1    1            4      WN            JAX                  810   \n",
              "3774      1    1            4      WN            BOI                 1030   \n",
              "4679      1    1            4      US            CLT                 1130   \n",
              "3506      1    1            4      DL            LAX                 1010   \n",
              "8837      1    1            4      OO            DTW                 1550   \n",
              "7662      1    1            4      EV            JAN                 1436   \n",
              "65        1    1            4      NK            BOS                  510   \n",
              "60        1    1            4      HA            HNL                  502   \n",
              "9992      1    1            4      HA            LAX                 1705   \n",
              "8270      1    1            4      DL            ATL                 1515   \n",
              "\n",
              "      SCHEDULED_TIME  DISTANCE  SCHEDULED_ARRIVAL  DEPARTURE_DELAY  DELAY  \n",
              "1781              70       270                920             -5.0      0  \n",
              "3774              70       287               1040             -4.0      0  \n",
              "4679              84       361               1254             -6.0      0  \n",
              "3506             110       590               1300              0.0      0  \n",
              "8837              76       229               1706             -1.0      0  \n",
              "7662             134       677               1650             -1.0      0  \n",
              "65               140       738                730             -4.0      0  \n",
              "60                42       163                544             -1.0      0  \n",
              "9992             350      2556               2055             -3.0      0  \n",
              "8270              66       214               1621             -1.0      0  "
            ],
            "text/html": [
              "\n",
              "  <div id=\"df-0631df72-4e2b-4961-bcbd-8a6d59d2f421\" class=\"colab-df-container\">\n",
              "    <div>\n",
              "<style scoped>\n",
              "    .dataframe tbody tr th:only-of-type {\n",
              "        vertical-align: middle;\n",
              "    }\n",
              "\n",
              "    .dataframe tbody tr th {\n",
              "        vertical-align: top;\n",
              "    }\n",
              "\n",
              "    .dataframe thead th {\n",
              "        text-align: right;\n",
              "    }\n",
              "</style>\n",
              "<table border=\"1\" class=\"dataframe\">\n",
              "  <thead>\n",
              "    <tr style=\"text-align: right;\">\n",
              "      <th></th>\n",
              "      <th>MONTH</th>\n",
              "      <th>DAY</th>\n",
              "      <th>DAY_OF_WEEK</th>\n",
              "      <th>AIRLINE</th>\n",
              "      <th>ORIGIN_AIRPORT</th>\n",
              "      <th>SCHEDULED_DEPARTURE</th>\n",
              "      <th>SCHEDULED_TIME</th>\n",
              "      <th>DISTANCE</th>\n",
              "      <th>SCHEDULED_ARRIVAL</th>\n",
              "      <th>DEPARTURE_DELAY</th>\n",
              "      <th>DELAY</th>\n",
              "    </tr>\n",
              "  </thead>\n",
              "  <tbody>\n",
              "    <tr>\n",
              "      <th>1781</th>\n",
              "      <td>1</td>\n",
              "      <td>1</td>\n",
              "      <td>4</td>\n",
              "      <td>WN</td>\n",
              "      <td>JAX</td>\n",
              "      <td>810</td>\n",
              "      <td>70</td>\n",
              "      <td>270</td>\n",
              "      <td>920</td>\n",
              "      <td>-5.0</td>\n",
              "      <td>0</td>\n",
              "    </tr>\n",
              "    <tr>\n",
              "      <th>3774</th>\n",
              "      <td>1</td>\n",
              "      <td>1</td>\n",
              "      <td>4</td>\n",
              "      <td>WN</td>\n",
              "      <td>BOI</td>\n",
              "      <td>1030</td>\n",
              "      <td>70</td>\n",
              "      <td>287</td>\n",
              "      <td>1040</td>\n",
              "      <td>-4.0</td>\n",
              "      <td>0</td>\n",
              "    </tr>\n",
              "    <tr>\n",
              "      <th>4679</th>\n",
              "      <td>1</td>\n",
              "      <td>1</td>\n",
              "      <td>4</td>\n",
              "      <td>US</td>\n",
              "      <td>CLT</td>\n",
              "      <td>1130</td>\n",
              "      <td>84</td>\n",
              "      <td>361</td>\n",
              "      <td>1254</td>\n",
              "      <td>-6.0</td>\n",
              "      <td>0</td>\n",
              "    </tr>\n",
              "    <tr>\n",
              "      <th>3506</th>\n",
              "      <td>1</td>\n",
              "      <td>1</td>\n",
              "      <td>4</td>\n",
              "      <td>DL</td>\n",
              "      <td>LAX</td>\n",
              "      <td>1010</td>\n",
              "      <td>110</td>\n",
              "      <td>590</td>\n",
              "      <td>1300</td>\n",
              "      <td>0.0</td>\n",
              "      <td>0</td>\n",
              "    </tr>\n",
              "    <tr>\n",
              "      <th>8837</th>\n",
              "      <td>1</td>\n",
              "      <td>1</td>\n",
              "      <td>4</td>\n",
              "      <td>OO</td>\n",
              "      <td>DTW</td>\n",
              "      <td>1550</td>\n",
              "      <td>76</td>\n",
              "      <td>229</td>\n",
              "      <td>1706</td>\n",
              "      <td>-1.0</td>\n",
              "      <td>0</td>\n",
              "    </tr>\n",
              "    <tr>\n",
              "      <th>7662</th>\n",
              "      <td>1</td>\n",
              "      <td>1</td>\n",
              "      <td>4</td>\n",
              "      <td>EV</td>\n",
              "      <td>JAN</td>\n",
              "      <td>1436</td>\n",
              "      <td>134</td>\n",
              "      <td>677</td>\n",
              "      <td>1650</td>\n",
              "      <td>-1.0</td>\n",
              "      <td>0</td>\n",
              "    </tr>\n",
              "    <tr>\n",
              "      <th>65</th>\n",
              "      <td>1</td>\n",
              "      <td>1</td>\n",
              "      <td>4</td>\n",
              "      <td>NK</td>\n",
              "      <td>BOS</td>\n",
              "      <td>510</td>\n",
              "      <td>140</td>\n",
              "      <td>738</td>\n",
              "      <td>730</td>\n",
              "      <td>-4.0</td>\n",
              "      <td>0</td>\n",
              "    </tr>\n",
              "    <tr>\n",
              "      <th>60</th>\n",
              "      <td>1</td>\n",
              "      <td>1</td>\n",
              "      <td>4</td>\n",
              "      <td>HA</td>\n",
              "      <td>HNL</td>\n",
              "      <td>502</td>\n",
              "      <td>42</td>\n",
              "      <td>163</td>\n",
              "      <td>544</td>\n",
              "      <td>-1.0</td>\n",
              "      <td>0</td>\n",
              "    </tr>\n",
              "    <tr>\n",
              "      <th>9992</th>\n",
              "      <td>1</td>\n",
              "      <td>1</td>\n",
              "      <td>4</td>\n",
              "      <td>HA</td>\n",
              "      <td>LAX</td>\n",
              "      <td>1705</td>\n",
              "      <td>350</td>\n",
              "      <td>2556</td>\n",
              "      <td>2055</td>\n",
              "      <td>-3.0</td>\n",
              "      <td>0</td>\n",
              "    </tr>\n",
              "    <tr>\n",
              "      <th>8270</th>\n",
              "      <td>1</td>\n",
              "      <td>1</td>\n",
              "      <td>4</td>\n",
              "      <td>DL</td>\n",
              "      <td>ATL</td>\n",
              "      <td>1515</td>\n",
              "      <td>66</td>\n",
              "      <td>214</td>\n",
              "      <td>1621</td>\n",
              "      <td>-1.0</td>\n",
              "      <td>0</td>\n",
              "    </tr>\n",
              "  </tbody>\n",
              "</table>\n",
              "</div>\n",
              "    <div class=\"colab-df-buttons\">\n",
              "\n",
              "  <div class=\"colab-df-container\">\n",
              "    <button class=\"colab-df-convert\" onclick=\"convertToInteractive('df-0631df72-4e2b-4961-bcbd-8a6d59d2f421')\"\n",
              "            title=\"Convert this dataframe to an interactive table.\"\n",
              "            style=\"display:none;\">\n",
              "\n",
              "  <svg xmlns=\"http://www.w3.org/2000/svg\" height=\"24px\" viewBox=\"0 -960 960 960\">\n",
              "    <path d=\"M120-120v-720h720v720H120Zm60-500h600v-160H180v160Zm220 220h160v-160H400v160Zm0 220h160v-160H400v160ZM180-400h160v-160H180v160Zm440 0h160v-160H620v160ZM180-180h160v-160H180v160Zm440 0h160v-160H620v160Z\"/>\n",
              "  </svg>\n",
              "    </button>\n",
              "\n",
              "  <style>\n",
              "    .colab-df-container {\n",
              "      display:flex;\n",
              "      gap: 12px;\n",
              "    }\n",
              "\n",
              "    .colab-df-convert {\n",
              "      background-color: #E8F0FE;\n",
              "      border: none;\n",
              "      border-radius: 50%;\n",
              "      cursor: pointer;\n",
              "      display: none;\n",
              "      fill: #1967D2;\n",
              "      height: 32px;\n",
              "      padding: 0 0 0 0;\n",
              "      width: 32px;\n",
              "    }\n",
              "\n",
              "    .colab-df-convert:hover {\n",
              "      background-color: #E2EBFA;\n",
              "      box-shadow: 0px 1px 2px rgba(60, 64, 67, 0.3), 0px 1px 3px 1px rgba(60, 64, 67, 0.15);\n",
              "      fill: #174EA6;\n",
              "    }\n",
              "\n",
              "    .colab-df-buttons div {\n",
              "      margin-bottom: 4px;\n",
              "    }\n",
              "\n",
              "    [theme=dark] .colab-df-convert {\n",
              "      background-color: #3B4455;\n",
              "      fill: #D2E3FC;\n",
              "    }\n",
              "\n",
              "    [theme=dark] .colab-df-convert:hover {\n",
              "      background-color: #434B5C;\n",
              "      box-shadow: 0px 1px 3px 1px rgba(0, 0, 0, 0.15);\n",
              "      filter: drop-shadow(0px 1px 2px rgba(0, 0, 0, 0.3));\n",
              "      fill: #FFFFFF;\n",
              "    }\n",
              "  </style>\n",
              "\n",
              "    <script>\n",
              "      const buttonEl =\n",
              "        document.querySelector('#df-0631df72-4e2b-4961-bcbd-8a6d59d2f421 button.colab-df-convert');\n",
              "      buttonEl.style.display =\n",
              "        google.colab.kernel.accessAllowed ? 'block' : 'none';\n",
              "\n",
              "      async function convertToInteractive(key) {\n",
              "        const element = document.querySelector('#df-0631df72-4e2b-4961-bcbd-8a6d59d2f421');\n",
              "        const dataTable =\n",
              "          await google.colab.kernel.invokeFunction('convertToInteractive',\n",
              "                                                    [key], {});\n",
              "        if (!dataTable) return;\n",
              "\n",
              "        const docLinkHtml = 'Like what you see? Visit the ' +\n",
              "          '<a target=\"_blank\" href=https://colab.research.google.com/notebooks/data_table.ipynb>data table notebook</a>'\n",
              "          + ' to learn more about interactive tables.';\n",
              "        element.innerHTML = '';\n",
              "        dataTable['output_type'] = 'display_data';\n",
              "        await google.colab.output.renderOutput(dataTable, element);\n",
              "        const docLink = document.createElement('div');\n",
              "        docLink.innerHTML = docLinkHtml;\n",
              "        element.appendChild(docLink);\n",
              "      }\n",
              "    </script>\n",
              "  </div>\n",
              "\n",
              "\n",
              "<div id=\"df-c0a65c88-ef71-4cbd-9147-f6a634e332ba\">\n",
              "  <button class=\"colab-df-quickchart\" onclick=\"quickchart('df-c0a65c88-ef71-4cbd-9147-f6a634e332ba')\"\n",
              "            title=\"Suggest charts\"\n",
              "            style=\"display:none;\">\n",
              "\n",
              "<svg xmlns=\"http://www.w3.org/2000/svg\" height=\"24px\"viewBox=\"0 0 24 24\"\n",
              "     width=\"24px\">\n",
              "    <g>\n",
              "        <path d=\"M19 3H5c-1.1 0-2 .9-2 2v14c0 1.1.9 2 2 2h14c1.1 0 2-.9 2-2V5c0-1.1-.9-2-2-2zM9 17H7v-7h2v7zm4 0h-2V7h2v10zm4 0h-2v-4h2v4z\"/>\n",
              "    </g>\n",
              "</svg>\n",
              "  </button>\n",
              "\n",
              "<style>\n",
              "  .colab-df-quickchart {\n",
              "      --bg-color: #E8F0FE;\n",
              "      --fill-color: #1967D2;\n",
              "      --hover-bg-color: #E2EBFA;\n",
              "      --hover-fill-color: #174EA6;\n",
              "      --disabled-fill-color: #AAA;\n",
              "      --disabled-bg-color: #DDD;\n",
              "  }\n",
              "\n",
              "  [theme=dark] .colab-df-quickchart {\n",
              "      --bg-color: #3B4455;\n",
              "      --fill-color: #D2E3FC;\n",
              "      --hover-bg-color: #434B5C;\n",
              "      --hover-fill-color: #FFFFFF;\n",
              "      --disabled-bg-color: #3B4455;\n",
              "      --disabled-fill-color: #666;\n",
              "  }\n",
              "\n",
              "  .colab-df-quickchart {\n",
              "    background-color: var(--bg-color);\n",
              "    border: none;\n",
              "    border-radius: 50%;\n",
              "    cursor: pointer;\n",
              "    display: none;\n",
              "    fill: var(--fill-color);\n",
              "    height: 32px;\n",
              "    padding: 0;\n",
              "    width: 32px;\n",
              "  }\n",
              "\n",
              "  .colab-df-quickchart:hover {\n",
              "    background-color: var(--hover-bg-color);\n",
              "    box-shadow: 0 1px 2px rgba(60, 64, 67, 0.3), 0 1px 3px 1px rgba(60, 64, 67, 0.15);\n",
              "    fill: var(--button-hover-fill-color);\n",
              "  }\n",
              "\n",
              "  .colab-df-quickchart-complete:disabled,\n",
              "  .colab-df-quickchart-complete:disabled:hover {\n",
              "    background-color: var(--disabled-bg-color);\n",
              "    fill: var(--disabled-fill-color);\n",
              "    box-shadow: none;\n",
              "  }\n",
              "\n",
              "  .colab-df-spinner {\n",
              "    border: 2px solid var(--fill-color);\n",
              "    border-color: transparent;\n",
              "    border-bottom-color: var(--fill-color);\n",
              "    animation:\n",
              "      spin 1s steps(1) infinite;\n",
              "  }\n",
              "\n",
              "  @keyframes spin {\n",
              "    0% {\n",
              "      border-color: transparent;\n",
              "      border-bottom-color: var(--fill-color);\n",
              "      border-left-color: var(--fill-color);\n",
              "    }\n",
              "    20% {\n",
              "      border-color: transparent;\n",
              "      border-left-color: var(--fill-color);\n",
              "      border-top-color: var(--fill-color);\n",
              "    }\n",
              "    30% {\n",
              "      border-color: transparent;\n",
              "      border-left-color: var(--fill-color);\n",
              "      border-top-color: var(--fill-color);\n",
              "      border-right-color: var(--fill-color);\n",
              "    }\n",
              "    40% {\n",
              "      border-color: transparent;\n",
              "      border-right-color: var(--fill-color);\n",
              "      border-top-color: var(--fill-color);\n",
              "    }\n",
              "    60% {\n",
              "      border-color: transparent;\n",
              "      border-right-color: var(--fill-color);\n",
              "    }\n",
              "    80% {\n",
              "      border-color: transparent;\n",
              "      border-right-color: var(--fill-color);\n",
              "      border-bottom-color: var(--fill-color);\n",
              "    }\n",
              "    90% {\n",
              "      border-color: transparent;\n",
              "      border-bottom-color: var(--fill-color);\n",
              "    }\n",
              "  }\n",
              "</style>\n",
              "\n",
              "  <script>\n",
              "    async function quickchart(key) {\n",
              "      const quickchartButtonEl =\n",
              "        document.querySelector('#' + key + ' button');\n",
              "      quickchartButtonEl.disabled = true;  // To prevent multiple clicks.\n",
              "      quickchartButtonEl.classList.add('colab-df-spinner');\n",
              "      try {\n",
              "        const charts = await google.colab.kernel.invokeFunction(\n",
              "            'suggestCharts', [key], {});\n",
              "      } catch (error) {\n",
              "        console.error('Error during call to suggestCharts:', error);\n",
              "      }\n",
              "      quickchartButtonEl.classList.remove('colab-df-spinner');\n",
              "      quickchartButtonEl.classList.add('colab-df-quickchart-complete');\n",
              "    }\n",
              "    (() => {\n",
              "      let quickchartButtonEl =\n",
              "        document.querySelector('#df-c0a65c88-ef71-4cbd-9147-f6a634e332ba button');\n",
              "      quickchartButtonEl.style.display =\n",
              "        google.colab.kernel.accessAllowed ? 'block' : 'none';\n",
              "    })();\n",
              "  </script>\n",
              "</div>\n",
              "    </div>\n",
              "  </div>\n"
            ],
            "application/vnd.google.colaboratory.intrinsic+json": {
              "type": "dataframe",
              "summary": "{\n  \"name\": \"no_delay_sample[:10]\",\n  \"rows\": 10,\n  \"fields\": [\n    {\n      \"column\": \"MONTH\",\n      \"properties\": {\n        \"dtype\": \"number\",\n        \"std\": 0,\n        \"min\": 1,\n        \"max\": 1,\n        \"num_unique_values\": 1,\n        \"samples\": [\n          1\n        ],\n        \"semantic_type\": \"\",\n        \"description\": \"\"\n      }\n    },\n    {\n      \"column\": \"DAY\",\n      \"properties\": {\n        \"dtype\": \"number\",\n        \"std\": 0,\n        \"min\": 1,\n        \"max\": 1,\n        \"num_unique_values\": 1,\n        \"samples\": [\n          1\n        ],\n        \"semantic_type\": \"\",\n        \"description\": \"\"\n      }\n    },\n    {\n      \"column\": \"DAY_OF_WEEK\",\n      \"properties\": {\n        \"dtype\": \"number\",\n        \"std\": 0,\n        \"min\": 4,\n        \"max\": 4,\n        \"num_unique_values\": 1,\n        \"samples\": [\n          4\n        ],\n        \"semantic_type\": \"\",\n        \"description\": \"\"\n      }\n    },\n    {\n      \"column\": \"AIRLINE\",\n      \"properties\": {\n        \"dtype\": \"string\",\n        \"num_unique_values\": 7,\n        \"samples\": [\n          \"WN\"\n        ],\n        \"semantic_type\": \"\",\n        \"description\": \"\"\n      }\n    },\n    {\n      \"column\": \"ORIGIN_AIRPORT\",\n      \"properties\": {\n        \"dtype\": \"string\",\n        \"num_unique_values\": 9,\n        \"samples\": [\n          \"HNL\"\n        ],\n        \"semantic_type\": \"\",\n        \"description\": \"\"\n      }\n    },\n    {\n      \"column\": \"SCHEDULED_DEPARTURE\",\n      \"properties\": {\n        \"dtype\": \"number\",\n        \"std\": 428,\n        \"min\": 502,\n        \"max\": 1705,\n        \"num_unique_values\": 10,\n        \"samples\": [\n          1705\n        ],\n        \"semantic_type\": \"\",\n        \"description\": \"\"\n      }\n    },\n    {\n      \"column\": \"SCHEDULED_TIME\",\n      \"properties\": {\n        \"dtype\": \"number\",\n        \"std\": 88,\n        \"min\": 42,\n        \"max\": 350,\n        \"num_unique_values\": 9,\n        \"samples\": [\n          350\n        ],\n        \"semantic_type\": \"\",\n        \"description\": \"\"\n      }\n    },\n    {\n      \"column\": \"DISTANCE\",\n      \"properties\": {\n        \"dtype\": \"number\",\n        \"std\": 714,\n        \"min\": 163,\n        \"max\": 2556,\n        \"num_unique_values\": 10,\n        \"samples\": [\n          2556\n        ],\n        \"semantic_type\": \"\",\n        \"description\": \"\"\n      }\n    },\n    {\n      \"column\": \"SCHEDULED_ARRIVAL\",\n      \"properties\": {\n        \"dtype\": \"number\",\n        \"std\": 479,\n        \"min\": 544,\n        \"max\": 2055,\n        \"num_unique_values\": 10,\n        \"samples\": [\n          2055\n        ],\n        \"semantic_type\": \"\",\n        \"description\": \"\"\n      }\n    },\n    {\n      \"column\": \"DEPARTURE_DELAY\",\n      \"properties\": {\n        \"dtype\": \"number\",\n        \"std\": 2.065591117977289,\n        \"min\": -6.0,\n        \"max\": 0.0,\n        \"num_unique_values\": 6,\n        \"samples\": [\n          -5.0\n        ],\n        \"semantic_type\": \"\",\n        \"description\": \"\"\n      }\n    },\n    {\n      \"column\": \"DELAY\",\n      \"properties\": {\n        \"dtype\": \"number\",\n        \"std\": 0,\n        \"min\": 0,\n        \"max\": 0,\n        \"num_unique_values\": 1,\n        \"samples\": [\n          0\n        ],\n        \"semantic_type\": \"\",\n        \"description\": \"\"\n      }\n    }\n  ]\n}"
            }
          },
          "metadata": {},
          "execution_count": 12
        }
      ]
    },
    {
      "cell_type": "code",
      "source": [
        "delay_sample = flights_agg[flights_agg.DELAY == 1]\n",
        "flights_agg_balanced = delay_sample.append(no_delay_sample)"
      ],
      "metadata": {
        "colab": {
          "base_uri": "https://localhost:8080/"
        },
        "id": "7L3A-5I8T9bD",
        "outputId": "8d34f4b9-b0de-4981-f0e2-815e1aa0049f"
      },
      "execution_count": null,
      "outputs": [
        {
          "output_type": "stream",
          "name": "stderr",
          "text": [
            "<ipython-input-13-11a5c0dca04f>:2: FutureWarning: The frame.append method is deprecated and will be removed from pandas in a future version. Use pandas.concat instead.\n",
            "  flights_agg_balanced = delay_sample.append(no_delay_sample)\n"
          ]
        }
      ]
    },
    {
      "cell_type": "code",
      "source": [
        "n = int(len(flights_agg_balanced)*0.10)\n",
        "flights_new_bal = flights_agg_balanced.sample(n, random_state = 314)"
      ],
      "metadata": {
        "id": "pV3faHZLUAIG"
      },
      "execution_count": null,
      "outputs": []
    },
    {
      "cell_type": "code",
      "source": [
        "no_delay_bal = (flights_new_bal['DELAY'] == 0).sum()\n",
        "no_delay_perc_bal = float(no_delay_bal)/n\n",
        "delay_perc_bal = 1 - no_delay_perc_bal\n",
        "print(no_delay_perc_bal, delay_perc_bal)"
      ],
      "metadata": {
        "colab": {
          "base_uri": "https://localhost:8080/"
        },
        "id": "QFpt5xywUCsC",
        "outputId": "fdabcb84-d490-4786-e698-a9b809b4aa72"
      },
      "execution_count": null,
      "outputs": [
        {
          "output_type": "stream",
          "name": "stdout",
          "text": [
            "0.49733333333333335 0.5026666666666666\n"
          ]
        }
      ]
    },
    {
      "cell_type": "code",
      "source": [
        "flights = pd.read_csv(\"flight.csv\")"
      ],
      "metadata": {
        "id": "gjyCYf6YUFPU"
      },
      "execution_count": null,
      "outputs": []
    },
    {
      "cell_type": "code",
      "source": [
        "flight_df = sqlCtx.createDataFrame(flights_new_bal)\n",
        "flight_df.show(5)"
      ],
      "metadata": {
        "colab": {
          "base_uri": "https://localhost:8080/"
        },
        "id": "NFrKqItxUHv_",
        "outputId": "a3ac0d0f-a8f8-48a1-f228-cf948cb04493"
      },
      "execution_count": null,
      "outputs": [
        {
          "output_type": "stream",
          "name": "stdout",
          "text": [
            "+-----+---+-----------+-------+--------------+-------------------+--------------+--------+-----------------+---------------+-----+\n",
            "|MONTH|DAY|DAY_OF_WEEK|AIRLINE|ORIGIN_AIRPORT|SCHEDULED_DEPARTURE|SCHEDULED_TIME|DISTANCE|SCHEDULED_ARRIVAL|DEPARTURE_DELAY|DELAY|\n",
            "+-----+---+-----------+-------+--------------+-------------------+--------------+--------+-----------------+---------------+-----+\n",
            "|    1|  1|          4|     DL|           ATL|               1539|            74|     259|             1653|           -1.0|    0|\n",
            "|    1|  1|          4|     EV|           RIC|               1047|            53|     100|             1140|           -6.0|    0|\n",
            "|    1|  1|          4|     EV|           IAH|               1032|            67|     216|             1139|           -5.0|    0|\n",
            "|    1|  1|          4|     UA|           EWR|                758|           181|     997|             1059|           -1.0|    0|\n",
            "|    1|  1|          4|     EV|           MCI|                550|           135|     643|              805|           -2.0|    0|\n",
            "+-----+---+-----------+-------+--------------+-------------------+--------------+--------+-----------------+---------------+-----+\n",
            "only showing top 5 rows\n",
            "\n"
          ]
        }
      ]
    },
    {
      "cell_type": "code",
      "source": [
        "flight_df.write.parquet(\"flight_df.parquet\")"
      ],
      "metadata": {
        "id": "RTFeKGWtUJqJ"
      },
      "execution_count": null,
      "outputs": []
    },
    {
      "cell_type": "code",
      "source": [
        "flight_df = sqlCtx.read.parquet(\"flight_df.parquet\")"
      ],
      "metadata": {
        "id": "VsKggO3qUL-m"
      },
      "execution_count": null,
      "outputs": []
    },
    {
      "cell_type": "code",
      "source": [
        "flight_df.show(4)"
      ],
      "metadata": {
        "colab": {
          "base_uri": "https://localhost:8080/"
        },
        "id": "tjs_kE-DUOaA",
        "outputId": "4a2c2dc1-e394-4936-a204-15da8ab10d83"
      },
      "execution_count": null,
      "outputs": [
        {
          "output_type": "stream",
          "name": "stdout",
          "text": [
            "+-----+---+-----------+-------+--------------+-------------------+--------------+--------+-----------------+---------------+-----+\n",
            "|MONTH|DAY|DAY_OF_WEEK|AIRLINE|ORIGIN_AIRPORT|SCHEDULED_DEPARTURE|SCHEDULED_TIME|DISTANCE|SCHEDULED_ARRIVAL|DEPARTURE_DELAY|DELAY|\n",
            "+-----+---+-----------+-------+--------------+-------------------+--------------+--------+-----------------+---------------+-----+\n",
            "|    1|  1|          4|     DL|           ATL|               1539|            74|     259|             1653|           -1.0|    0|\n",
            "|    1|  1|          4|     EV|           RIC|               1047|            53|     100|             1140|           -6.0|    0|\n",
            "|    1|  1|          4|     EV|           IAH|               1032|            67|     216|             1139|           -5.0|    0|\n",
            "|    1|  1|          4|     UA|           EWR|                758|           181|     997|             1059|           -1.0|    0|\n",
            "+-----+---+-----------+-------+--------------+-------------------+--------------+--------+-----------------+---------------+-----+\n",
            "only showing top 4 rows\n",
            "\n"
          ]
        }
      ]
    },
    {
      "cell_type": "code",
      "source": [
        "# Use OneHotEncoder to map categorical variables to binary vectors\n",
        "cat_columns = ['MONTH','DAY','DAY_OF_WEEK']\n",
        "encoders = [OneHotEncoder(inputCol=column, outputCol=column+\"_vec\") for column in cat_columns]\n",
        "pipelineOHE = Pipeline(stages=encoders)\n",
        "flight_df2 = pipelineOHE.fit(flight_df).transform(flight_df)"
      ],
      "metadata": {
        "id": "aclwzHAVUQjO"
      },
      "execution_count": null,
      "outputs": []
    },
    {
      "cell_type": "code",
      "source": [
        "flight_df2.show(2)"
      ],
      "metadata": {
        "colab": {
          "base_uri": "https://localhost:8080/"
        },
        "id": "JerMTr0_UTKr",
        "outputId": "c32b56dd-7c0b-4341-8523-55000b864ed8"
      },
      "execution_count": null,
      "outputs": [
        {
          "output_type": "stream",
          "name": "stdout",
          "text": [
            "+-----+---+-----------+-------+--------------+-------------------+--------------+--------+-----------------+---------------+-----+---------+---------+---------------+\n",
            "|MONTH|DAY|DAY_OF_WEEK|AIRLINE|ORIGIN_AIRPORT|SCHEDULED_DEPARTURE|SCHEDULED_TIME|DISTANCE|SCHEDULED_ARRIVAL|DEPARTURE_DELAY|DELAY|MONTH_vec|  DAY_vec|DAY_OF_WEEK_vec|\n",
            "+-----+---+-----------+-------+--------------+-------------------+--------------+--------+-----------------+---------------+-----+---------+---------+---------------+\n",
            "|    1|  1|          4|     DL|           ATL|               1539|            74|     259|             1653|           -1.0|    0|(1,[],[])|(1,[],[])|      (4,[],[])|\n",
            "|    1|  1|          4|     EV|           RIC|               1047|            53|     100|             1140|           -6.0|    0|(1,[],[])|(1,[],[])|      (4,[],[])|\n",
            "+-----+---+-----------+-------+--------------+-------------------+--------------+--------+-----------------+---------------+-----+---------+---------+---------------+\n",
            "only showing top 2 rows\n",
            "\n"
          ]
        }
      ]
    },
    {
      "cell_type": "code",
      "source": [
        "assembler = VectorAssembler(inputCols=['MONTH_vec', 'DAY_vec', 'DAY_OF_WEEK_vec',\n",
        "                                       'SCHEDULED_DEPARTURE', 'SCHEDULED_TIME', 'DISTANCE',\n",
        "                                       'SCHEDULED_ARRIVAL'], outputCol=\"features\")"
      ],
      "metadata": {
        "id": "wQancD_mUVJD"
      },
      "execution_count": null,
      "outputs": []
    },
    {
      "cell_type": "code",
      "source": [
        "# Apply vector assembler to data\n",
        "transformed = assembler.transform(flight_df2)"
      ],
      "metadata": {
        "id": "6c9MgaIPUXPi"
      },
      "execution_count": null,
      "outputs": []
    },
    {
      "cell_type": "code",
      "source": [
        "transformed.select(['DELAY', 'features']).show(5)"
      ],
      "metadata": {
        "colab": {
          "base_uri": "https://localhost:8080/"
        },
        "id": "H0BrPYmgUZQX",
        "outputId": "7eee240b-7409-45ac-d6b7-d84f66e8fb14"
      },
      "execution_count": null,
      "outputs": [
        {
          "output_type": "stream",
          "name": "stdout",
          "text": [
            "+-----+--------------------+\n",
            "|DELAY|            features|\n",
            "+-----+--------------------+\n",
            "|    0|(10,[6,7,8,9],[15...|\n",
            "|    0|(10,[6,7,8,9],[10...|\n",
            "|    0|(10,[6,7,8,9],[10...|\n",
            "|    0|(10,[6,7,8,9],[75...|\n",
            "|    0|(10,[6,7,8,9],[55...|\n",
            "+-----+--------------------+\n",
            "only showing top 5 rows\n",
            "\n"
          ]
        }
      ]
    },
    {
      "cell_type": "code",
      "source": [
        "# Convert to RDD\n",
        "dataRDD = transformed.select(['DELAY','features']).rdd.map(tuple)"
      ],
      "metadata": {
        "id": "qv4zbHImUbUy"
      },
      "execution_count": null,
      "outputs": []
    },
    {
      "cell_type": "code",
      "source": [
        "# Map label to binary values, then convert to LabeledPoint\n",
        "lp = dataRDD.map(lambda row : (0 if row[0] == 0 else 1, Vectors.dense(row[1])))    \\\n",
        "            .map(lambda row : LabeledPoint(row[0], row[1]))"
      ],
      "metadata": {
        "id": "i_WcyB6uUdnS"
      },
      "execution_count": null,
      "outputs": []
    },
    {
      "cell_type": "code",
      "source": [
        "lp.take(5)"
      ],
      "metadata": {
        "colab": {
          "base_uri": "https://localhost:8080/"
        },
        "id": "Z6Y1jvRQUffn",
        "outputId": "2ffaee8d-65f4-4430-ca84-0371cbe88ce7"
      },
      "execution_count": null,
      "outputs": [
        {
          "output_type": "execute_result",
          "data": {
            "text/plain": [
              "[LabeledPoint(0.0, [0.0,0.0,0.0,0.0,0.0,0.0,1539.0,74.0,259.0,1653.0]),\n",
              " LabeledPoint(0.0, [0.0,0.0,0.0,0.0,0.0,0.0,1047.0,53.0,100.0,1140.0]),\n",
              " LabeledPoint(0.0, [0.0,0.0,0.0,0.0,0.0,0.0,1032.0,67.0,216.0,1139.0]),\n",
              " LabeledPoint(0.0, [0.0,0.0,0.0,0.0,0.0,0.0,758.0,181.0,997.0,1059.0]),\n",
              " LabeledPoint(0.0, [0.0,0.0,0.0,0.0,0.0,0.0,550.0,135.0,643.0,805.0])]"
            ]
          },
          "metadata": {},
          "execution_count": 28
        }
      ]
    },
    {
      "cell_type": "code",
      "source": [
        "split = lp.randomSplit([0.8, 0.2], 314)\n",
        "training = split[0]\n",
        "test = split[1]"
      ],
      "metadata": {
        "id": "6vO6lKL1UlHX"
      },
      "execution_count": null,
      "outputs": []
    },
    {
      "cell_type": "code",
      "source": [
        "from pyspark.mllib.classification import LogisticRegressionWithLBFGS, LogisticRegressionModel\n"
      ],
      "metadata": {
        "id": "f0PiRQGfUoPZ"
      },
      "execution_count": null,
      "outputs": []
    },
    {
      "cell_type": "code",
      "source": [
        "# Build model\n",
        "LR_model = LogisticRegressionWithLBFGS.train(training)"
      ],
      "metadata": {
        "id": "vPWIWc8oUrTZ"
      },
      "execution_count": null,
      "outputs": []
    },
    {
      "cell_type": "code",
      "source": [
        "# Evaluate model on training data\n",
        "LR_LAPtrain = training.map(lambda lp: (float(LR_model.predict(lp.features)), lp.label))"
      ],
      "metadata": {
        "id": "5h9TNnhlUtJx"
      },
      "execution_count": null,
      "outputs": []
    },
    {
      "cell_type": "code",
      "source": [
        "# Print training accuracy\n",
        "LR_accTrain = 1.0 * LR_LAPtrain.filter(lambda x:x[0] == x[1]).count()/training.count()\n",
        "print(LR_accTrain)"
      ],
      "metadata": {
        "colab": {
          "base_uri": "https://localhost:8080/"
        },
        "id": "0UWHU8-CVmf4",
        "outputId": "d2917c4c-8d28-4441-c579-daca460605f2"
      },
      "execution_count": null,
      "outputs": [
        {
          "output_type": "stream",
          "name": "stdout",
          "text": [
            "0.5830564784053156\n"
          ]
        }
      ]
    },
    {
      "cell_type": "code",
      "source": [
        "# Evaluate model on test data\n",
        "LR_LAP = test.map(lambda lp: (float(LR_model.predict(lp.features)), lp.label))"
      ],
      "metadata": {
        "id": "VWWPE-Z2Vomg"
      },
      "execution_count": null,
      "outputs": []
    },
    {
      "cell_type": "code",
      "source": [
        "# Print test accuracy\n",
        "LR_acc = 1.0 * LR_LAP.filter(lambda x:x[0] == x[1]).count()/test.count()\n",
        "print(LR_acc)"
      ],
      "metadata": {
        "colab": {
          "base_uri": "https://localhost:8080/"
        },
        "id": "pEeIIJH6Vqp_",
        "outputId": "529daa2d-2f10-4b7f-9cae-d26d41669f71"
      },
      "execution_count": null,
      "outputs": [
        {
          "output_type": "stream",
          "name": "stdout",
          "text": [
            "0.5878378378378378\n"
          ]
        }
      ]
    },
    {
      "cell_type": "code",
      "source": [
        "from pyspark.mllib.tree import RandomForest, RandomForestModel\n",
        "from pyspark.mllib.util import MLUtils\n",
        "from pyspark.ml.feature import StringIndexer\n",
        "from pyspark.ml.classification import RandomForestClassifier"
      ],
      "metadata": {
        "id": "Q_Tih8qcVsiS"
      },
      "execution_count": null,
      "outputs": []
    },
    {
      "cell_type": "code",
      "source": [
        "# Build model\n",
        "RF_model = RandomForest.trainClassifier(training, numClasses = 2,\n",
        "                                       categoricalFeaturesInfo = {},\n",
        "                                       numTrees = 5, featureSubsetStrategy = \"auto\",\n",
        "                                       impurity = 'gini', maxDepth = 4, maxBins = 32)"
      ],
      "metadata": {
        "id": "ua495NScVvF9"
      },
      "execution_count": null,
      "outputs": []
    },
    {
      "cell_type": "code",
      "source": [
        "# Evaluate model on training data\n",
        "RF_predtrain = RF_model.predict(training.map(lambda x: x.features))\n",
        "RF_LAPtrain = training.map(lambda lp: lp.label).zip(RF_predtrain)"
      ],
      "metadata": {
        "id": "GoLY-_LyWNmK"
      },
      "execution_count": null,
      "outputs": []
    },
    {
      "cell_type": "code",
      "source": [
        "# Print training accuracy\n",
        "RF_trainAcc = RF_LAPtrain.filter(lambda x: x[0] == x[1]).count() / float(training.count())\n",
        "print(RF_trainAcc)"
      ],
      "metadata": {
        "colab": {
          "base_uri": "https://localhost:8080/"
        },
        "id": "QfCxQfkvWTYM",
        "outputId": "5cb022b5-62f7-4832-8aa6-ce53ca897db3"
      },
      "execution_count": null,
      "outputs": [
        {
          "output_type": "stream",
          "name": "stdout",
          "text": [
            "0.6461794019933554\n"
          ]
        }
      ]
    },
    {
      "cell_type": "code",
      "source": [
        "# Evaluate model on test data\n",
        "RF_pred = RF_model.predict(test.map(lambda x: x.features))\n",
        "RF_LAP = test.map(lambda lp: lp.label).zip(RF_pred)"
      ],
      "metadata": {
        "id": "rtSJDkghWVJg"
      },
      "execution_count": null,
      "outputs": []
    },
    {
      "cell_type": "code",
      "source": [
        "# Print test accuracy\n",
        "RF_testAcc = RF_LAP.filter(lambda x: x[0] == x[1]).count() / float(test.count())\n",
        "print(RF_testAcc)"
      ],
      "metadata": {
        "colab": {
          "base_uri": "https://localhost:8080/"
        },
        "id": "9PAQ0pSIWYhA",
        "outputId": "b6ccda9a-95ea-4e7c-9a7e-f3103d46247a"
      },
      "execution_count": null,
      "outputs": [
        {
          "output_type": "stream",
          "name": "stdout",
          "text": [
            "0.581081081081081\n"
          ]
        }
      ]
    },
    {
      "cell_type": "code",
      "source": [],
      "metadata": {
        "id": "TeveqtXhWbGe"
      },
      "execution_count": null,
      "outputs": []
    },
    {
      "cell_type": "code",
      "source": [
        "# Prepare data for modeling\n",
        "flight_cv = transformed.select(['DELAY', 'features'])\n",
        "flight_cv = flight_cv.withColumnRenamed('DELAY', 'label')\n",
        "flight_cv = flight_cv.select(flight_cv.label.cast(DoubleType()).alias('label'),\n",
        "                                 'features')\n",
        "flight_cv.show(5)"
      ],
      "metadata": {
        "colab": {
          "base_uri": "https://localhost:8080/"
        },
        "id": "Oe3EQhSFybfn",
        "outputId": "66316958-dd93-4e0f-ea4a-ba91d57ead3a"
      },
      "execution_count": null,
      "outputs": [
        {
          "output_type": "stream",
          "name": "stdout",
          "text": [
            "+-----+--------------------+\n",
            "|label|            features|\n",
            "+-----+--------------------+\n",
            "|  0.0|(10,[6,7,8,9],[15...|\n",
            "|  0.0|(10,[6,7,8,9],[10...|\n",
            "|  0.0|(10,[6,7,8,9],[10...|\n",
            "|  0.0|(10,[6,7,8,9],[75...|\n",
            "|  0.0|(10,[6,7,8,9],[55...|\n",
            "+-----+--------------------+\n",
            "only showing top 5 rows\n",
            "\n"
          ]
        }
      ]
    },
    {
      "cell_type": "code",
      "source": [
        "train_cv, test_cv = flight_cv.randomSplit([0.8, 0.2], 314)"
      ],
      "metadata": {
        "id": "CYWRkzdPWiOx"
      },
      "execution_count": null,
      "outputs": []
    },
    {
      "cell_type": "code",
      "source": [
        "from pyspark.ml.classification import LogisticRegression\n",
        "from pyspark.ml.evaluation import BinaryClassificationEvaluator\n",
        "from pyspark.ml.tuning import CrossValidator, ParamGridBuilder"
      ],
      "metadata": {
        "id": "D1TterxRWpGx"
      },
      "execution_count": null,
      "outputs": []
    },
    {
      "cell_type": "code",
      "source": [
        "# Build model\n",
        "lr_k = LogisticRegression()"
      ],
      "metadata": {
        "id": "i3KoeR9aXHoM"
      },
      "execution_count": null,
      "outputs": []
    },
    {
      "cell_type": "code",
      "source": [
        "# Create grid of parameters\n",
        "grid_k = ParamGridBuilder().addGrid(lr_k.maxIter, [0, 1, 5, 10, 25]) \\\n",
        "                           .addGrid(lr_k.regParam, [0.1,0.01]) \\\n",
        "                           .addGrid(lr_k.fitIntercept, [False, True])\\\n",
        "                           .addGrid(lr_k.elasticNetParam, [0.0,0.3, 0.5,0.8, 1.0])\\\n",
        "                           .build()"
      ],
      "metadata": {
        "id": "ga4fRp9QXJb8"
      },
      "execution_count": null,
      "outputs": []
    },
    {
      "cell_type": "code",
      "source": [
        "evaluator_k = BinaryClassificationEvaluator()"
      ],
      "metadata": {
        "id": "Ov6RL_M7XLbu"
      },
      "execution_count": null,
      "outputs": []
    },
    {
      "cell_type": "code",
      "source": [
        "cv_lr = CrossValidator(estimator = lr_k, estimatorParamMaps = grid_k, evaluator = evaluator_k)"
      ],
      "metadata": {
        "id": "VC-yVbrcXNQO"
      },
      "execution_count": null,
      "outputs": []
    },
    {
      "cell_type": "code",
      "source": [
        "# Run cross-validation\n",
        "cvmodel_lr = cv_lr.fit(train_cv)"
      ],
      "metadata": {
        "id": "AFRtqAawXPy_"
      },
      "execution_count": null,
      "outputs": []
    },
    {
      "cell_type": "code",
      "source": [
        "# Evaluate tuned model on training data\n",
        "evaluator_k.evaluate(cvmodel_lr.transform(train_cv))"
      ],
      "metadata": {
        "colab": {
          "base_uri": "https://localhost:8080/"
        },
        "id": "pxpuuaTXXVos",
        "outputId": "d631f460-13cb-4ef9-c2cc-3665900bb6ec"
      },
      "execution_count": null,
      "outputs": [
        {
          "output_type": "execute_result",
          "data": {
            "text/plain": [
              "0.6401280870289956"
            ]
          },
          "metadata": {},
          "execution_count": 50
        }
      ]
    },
    {
      "cell_type": "code",
      "source": [
        "# Evaluate tuned model on test data\n",
        "evaluator_k.evaluate(cvmodel_lr.transform(test_cv))"
      ],
      "metadata": {
        "colab": {
          "base_uri": "https://localhost:8080/"
        },
        "id": "wgfMnpkzXWU6",
        "outputId": "1923a0e3-643d-417c-9401-26242fa00424"
      },
      "execution_count": null,
      "outputs": [
        {
          "output_type": "execute_result",
          "data": {
            "text/plain": [
              "0.5947477800869072"
            ]
          },
          "metadata": {},
          "execution_count": 51
        }
      ]
    },
    {
      "cell_type": "code",
      "source": [
        "from pyspark.ml.evaluation import MulticlassClassificationEvaluator\n",
        "from pyspark.ml.feature import VectorIndexer, IndexToString"
      ],
      "metadata": {
        "id": "3JJzqzzvXZDY"
      },
      "execution_count": null,
      "outputs": []
    },
    {
      "cell_type": "code",
      "source": [
        "labelIndexer = StringIndexer(inputCol = \"label\",\n",
        "                             outputCol = \"indexedLabel\").fit(flight_cv)"
      ],
      "metadata": {
        "id": "l2abTPZHXb_Y"
      },
      "execution_count": null,
      "outputs": []
    },
    {
      "cell_type": "code",
      "source": [
        "featureIndexer = VectorIndexer(inputCol=\"features\",\n",
        "                              outputCol=\"indexedFeatures\",\n",
        "                              maxCategories=4).fit(flight_cv)"
      ],
      "metadata": {
        "id": "s900kmQKXd2l"
      },
      "execution_count": null,
      "outputs": []
    },
    {
      "cell_type": "code",
      "source": [
        "labelConverter = IndexToString(inputCol=\"prediction\",\n",
        "                               outputCol=\"predictedLabel\",\n",
        "                               labels=labelIndexer.labels)"
      ],
      "metadata": {
        "id": "0ly7FhkoXfhN"
      },
      "execution_count": null,
      "outputs": []
    },
    {
      "cell_type": "code",
      "source": [
        "rf_k = RandomForestClassifier(labelCol = \"indexedLabel\",\n",
        "                              featuresCol = \"indexedFeatures\")"
      ],
      "metadata": {
        "id": "RidEzBbHXvLK"
      },
      "execution_count": null,
      "outputs": []
    },
    {
      "cell_type": "code",
      "source": [
        "evaluator_rf = MulticlassClassificationEvaluator(labelCol=\"indexedLabel\",\n",
        "                                                 predictionCol=\"prediction\",\n",
        "                                                metricName=\"accuracy\")\n",
        "numFolds = 5"
      ],
      "metadata": {
        "id": "rS7r8JQaXwF2"
      },
      "execution_count": null,
      "outputs": []
    },
    {
      "cell_type": "code",
      "source": [
        "# Create grid of parameters\n",
        "grid_k_rf = ParamGridBuilder().addGrid(rf_k.numTrees, [5,10,25])\\\n",
        "                           .addGrid(rf_k.maxDepth, [3, 5,10,15])\\\n",
        "                           .addGrid(rf_k.maxBins, [5, 10, 20, 30])\\\n",
        "                           .build()"
      ],
      "metadata": {
        "id": "f3Ow88vIXx5i"
      },
      "execution_count": null,
      "outputs": []
    },
    {
      "cell_type": "code",
      "source": [
        "# Create pipeline of transformers and estimators\n",
        "pipeline_rf = Pipeline(stages=[labelIndexer,\n",
        "                               featureIndexer,\n",
        "                               rf_k,\n",
        "                               labelConverter])"
      ],
      "metadata": {
        "id": "Xkyd1C_4Xz0H"
      },
      "execution_count": null,
      "outputs": []
    },
    {
      "cell_type": "code",
      "source": [
        "# Treat pipeline as estimator in a CrossValidator instance.\n",
        "cv_rf = CrossValidator(estimator = pipeline_rf,\n",
        "                       estimatorParamMaps = grid_k_rf,\n",
        "                       evaluator = evaluator_rf,\n",
        "                       numFolds = numFolds)"
      ],
      "metadata": {
        "id": "fc7YieJSX1Z7"
      },
      "execution_count": null,
      "outputs": []
    },
    {
      "cell_type": "code",
      "source": [
        "# Run cross-validation\n",
        "cvmodel_rf = cv_rf.fit(train_cv)"
      ],
      "metadata": {
        "id": "50psJ6sMX24Q"
      },
      "execution_count": null,
      "outputs": []
    },
    {
      "cell_type": "code",
      "source": [
        "# Evaluate tuned model on training data\n",
        "predictions_rf_train = cvmodel_rf.transform(train_cv)\n",
        "evaluator_rf.evaluate(predictions_rf_train)"
      ],
      "metadata": {
        "id": "GC8KoVN4Yk-d"
      },
      "execution_count": null,
      "outputs": []
    },
    {
      "cell_type": "code",
      "source": [
        "# Evaluate tuned model on test data\n",
        "predictions_rf = cvmodel_rf.transform(test_cv)"
      ],
      "metadata": {
        "id": "7TSX_5MgYmuc"
      },
      "execution_count": null,
      "outputs": []
    },
    {
      "cell_type": "code",
      "source": [
        "predictions_rf.select(\"predictedLabel\", \"label\", \"features\").show(5)"
      ],
      "metadata": {
        "colab": {
          "base_uri": "https://localhost:8080/"
        },
        "id": "64T22qMEYosM",
        "outputId": "315d31fe-33be-49ff-f711-0c1c579711d3"
      },
      "execution_count": null,
      "outputs": [
        {
          "output_type": "stream",
          "name": "stdout",
          "text": [
            "+--------------+-----+--------------------+\n",
            "|predictedLabel|label|            features|\n",
            "+--------------+-----+--------------------+\n",
            "|           0.0|  0.0|(10,[6,7,8,9],[60...|\n",
            "|           0.0|  0.0|(10,[6,7,8,9],[62...|\n",
            "|           0.0|  0.0|(10,[6,7,8,9],[64...|\n",
            "|           0.0|  0.0|(10,[6,7,8,9],[72...|\n",
            "|           0.0|  0.0|(10,[6,7,8,9],[73...|\n",
            "+--------------+-----+--------------------+\n",
            "only showing top 5 rows\n",
            "\n"
          ]
        }
      ]
    },
    {
      "cell_type": "code",
      "source": [
        "evaluator_rf.evaluate(predictions_rf)"
      ],
      "metadata": {
        "colab": {
          "base_uri": "https://localhost:8080/"
        },
        "id": "hQ_D3C2YYqYi",
        "outputId": "ebb4770b-5412-4636-a1fb-676a44ff8d3f"
      },
      "execution_count": null,
      "outputs": [
        {
          "output_type": "execute_result",
          "data": {
            "text/plain": [
              "0.547945205479452"
            ]
          },
          "metadata": {},
          "execution_count": 64
        }
      ]
    },
    {
      "cell_type": "code",
      "source": [],
      "metadata": {
        "id": "Y6tj671vYwLi"
      },
      "execution_count": null,
      "outputs": []
    }
  ]
}